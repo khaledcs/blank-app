{
  "nbformat": 4,
  "nbformat_minor": 0,
  "metadata": {
    "colab": {
      "provenance": []
    },
    "kernelspec": {
      "name": "python3",
      "display_name": "Python 3"
    },
    "language_info": {
      "name": "python"
    }
  },
  "cells": [
    {
      "cell_type": "markdown",
      "source": [
        "#**Question 4.**"
      ],
      "metadata": {
        "id": "pMZYOEPQC-EZ"
      }
    },
    {
      "cell_type": "markdown",
      "source": [
        "**You have been given a small dataset about a binary classification problem that contains information\n",
        "on whether a student passed (1) or failed (0) based on their study hours and exam scores. The dataset is as\n",
        "follows:**"
      ],
      "metadata": {
        "id": "BPsAIMC3-7qg"
      }
    },
    {
      "cell_type": "markdown",
      "source": [
        "**a. Fit a logistic regression model to predict the probability of a student passing based on their study hours and\n",
        "exam scores. Provide a summary of the model and interpret the results.**"
      ],
      "metadata": {
        "id": "iABp2UUa_AcM"
      }
    },
    {
      "cell_type": "code",
      "source": [
        "import pandas as pd\n",
        "import numpy as np\n",
        "from sklearn.linear_model import LogisticRegression, LogisticRegressionCV\n",
        "from sklearn.metrics import accuracy_score\n",
        "import statsmodels.api as sm\n",
        "\n",
        "data = {\n",
        "    'StudyHours': [1, 2, 3, 4, 5, 6],\n",
        "    'ExamScore': [50, 55, 60, 65, 70, 75],\n",
        "    'PassedTarget': [0, 0, 1, 1, 1, 1]\n",
        "}\n",
        "df = pd.DataFrame(data)\n",
        "\n",
        "X = df[['StudyHours', 'ExamScore']]\n",
        "y = df['PassedTarget']\n",
        "\n",
        "log_reg = LogisticRegression()\n",
        "log_reg.fit(X, y)\n",
        "\n",
        "print(\"Logistic Regression Coefficients:\")\n",
        "print(log_reg.coef_)\n",
        "print(\"Intercept:\", log_reg.intercept_)"
      ],
      "metadata": {
        "colab": {
          "base_uri": "https://localhost:8080/"
        },
        "id": "8qOViHzR5OWK",
        "outputId": "868cf7a9-6a6c-42a3-b1cf-227ef04ad65f"
      },
      "execution_count": null,
      "outputs": [
        {
          "output_type": "stream",
          "name": "stdout",
          "text": [
            "Logistic Regression Coefficients:\n",
            "[[0.14411527 0.7208262 ]]\n",
            "Intercept: [-41.80744107]\n"
          ]
        }
      ]
    },
    {
      "cell_type": "markdown",
      "source": [
        "**b. Modify your model to use either Lasso (L1) or Ridge (L2) regularization. You may use libraries like scikit-learn\n",
        "or glmnet to perform this task. Provide a summary of the model and interpret the results.**"
      ],
      "metadata": {
        "id": "YfX0hh1reQWW"
      }
    },
    {
      "cell_type": "code",
      "source": [
        "# Fit Ridge regularization\n",
        "log_reg_l2 = LogisticRegressionCV(penalty='l2', cv=3)  # L2 regularization with cross-validation\n",
        "log_reg_l2.fit(X, y)\n",
        "\n",
        "print(\"\\nRidge Regration Coefficients:\")\n",
        "print(log_reg_l2.coef_)\n",
        "print(\"Intercept:\", log_reg_l2.intercept_)"
      ],
      "metadata": {
        "colab": {
          "base_uri": "https://localhost:8080/"
        },
        "id": "FZ9NCze35ynF",
        "outputId": "e71d16e0-d949-4c68-af0f-ff771c0a9e96"
      },
      "execution_count": null,
      "outputs": [
        {
          "output_type": "stream",
          "name": "stdout",
          "text": [
            "\n",
            "Ridge Regration Coefficients:\n",
            "[[0.04502069 0.2251678 ]]\n",
            "Intercept: [-12.97274105]\n"
          ]
        },
        {
          "output_type": "stream",
          "name": "stderr",
          "text": [
            "/usr/local/lib/python3.11/dist-packages/sklearn/model_selection/_split.py:805: UserWarning: The least populated class in y has only 2 members, which is less than n_splits=3.\n",
            "  warnings.warn(\n"
          ]
        }
      ]
    },
    {
      "cell_type": "code",
      "source": [
        "new_student = np.array([[4.5, 68]])\n",
        "\n",
        "pred_standard = log_reg.predict(new_student)\n",
        "print(\"\\nStandard Logistic Regression Prediction:\", \"Pass\" if pred_standard[0] == 1 else \"Fail\")\n",
        "\n",
        "pred_l2 = log_reg_l2.predict(new_student)\n",
        "print(\"L2 Regularized Logistic Regression Prediction:\", \"Pass\" if pred_l2[0] == 1 else \"Fail\")\n",
        "\n",
        "y_pred_standard = log_reg.predict(X)\n",
        "y_pred_l2 = log_reg_l2.predict(X)\n",
        "\n",
        "print(\"\\nStandard Logistic Regression Accuracy:\", accuracy_score(y, y_pred_standard))\n",
        "print(\"L2 Regularized Logistic Regression Accuracy:\", accuracy_score(y, y_pred_l2))"
      ],
      "metadata": {
        "colab": {
          "base_uri": "https://localhost:8080/"
        },
        "id": "-_2n5rWp51e3",
        "outputId": "ab3e1dce-7266-49c3-b5ea-3a044a8ebdae"
      },
      "execution_count": null,
      "outputs": [
        {
          "output_type": "stream",
          "name": "stdout",
          "text": [
            "\n",
            "Standard Logistic Regression Prediction: Pass\n",
            "L2 Regularized Logistic Regression Prediction: Pass\n",
            "\n",
            "Standard Logistic Regression Accuracy: 1.0\n",
            "L2 Regularized Logistic Regression Accuracy: 1.0\n"
          ]
        },
        {
          "output_type": "stream",
          "name": "stderr",
          "text": [
            "/usr/local/lib/python3.11/dist-packages/sklearn/utils/validation.py:2739: UserWarning: X does not have valid feature names, but LogisticRegression was fitted with feature names\n",
            "  warnings.warn(\n",
            "/usr/local/lib/python3.11/dist-packages/sklearn/utils/validation.py:2739: UserWarning: X does not have valid feature names, but LogisticRegressionCV was fitted with feature names\n",
            "  warnings.warn(\n"
          ]
        }
      ]
    }
  ]
}